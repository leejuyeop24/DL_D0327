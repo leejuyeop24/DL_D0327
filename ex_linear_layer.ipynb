{
 "cells": [
  {
   "cell_type": "markdown",
   "metadata": {},
   "source": [
    "#### [ Linear Layer ]\n",
    "- pytorch에서 퍼셉트론 가중치합계(Weighed Sum)을 계산해주는 층 클래스  \n",
    "- 출력값에 활성화함수(AF) 적용해야 출력값이 됨"
   ]
  },
  {
   "cell_type": "markdown",
   "metadata": {},
   "source": [
    "[1] 모듈로딩 <hr>"
   ]
  },
  {
   "cell_type": "code",
   "execution_count": 1,
   "metadata": {},
   "outputs": [],
   "source": [
    "## 모듈로딩\n",
    "import torch\t\t\t\t\t## 텐서관련 모듈\n",
    "import torch.nn as nn\t\t\t## 신경망 관련 모듈\n",
    "import torch.nn.functional as F\t## 활성화 및 신경망 관련 함수들"
   ]
  },
  {
   "cell_type": "code",
   "execution_count": 3,
   "metadata": {},
   "outputs": [],
   "source": [
    "## 임시 데이터 준비\n",
    "x_train = torch.randn(2,3)\n",
    "y_train = torch.randint(1, 5, (2,1))"
   ]
  },
  {
   "cell_type": "code",
   "execution_count": 4,
   "metadata": {},
   "outputs": [
    {
     "name": "stdout",
     "output_type": "stream",
     "text": [
      "torch.Size([2, 3]) torch.Size([2, 1])\n"
     ]
    }
   ],
   "source": [
    "print(x_train.shape, y_train.shape)"
   ]
  },
  {
   "cell_type": "markdown",
   "metadata": {},
   "source": [
    "[2] 선형 결합층(Full-Connected Layer : FC Layer)"
   ]
  },
  {
   "cell_type": "code",
   "execution_count": 14,
   "metadata": {},
   "outputs": [],
   "source": [
    "## 인스턴스 생성\n",
    "layer = nn.Linear(3, 5)\t\t# 입력 피쳐 수, 출력 결과 수 즉, 퍼셉트론 수"
   ]
  },
  {
   "cell_type": "code",
   "execution_count": 15,
   "metadata": {},
   "outputs": [
    {
     "data": {
      "text/plain": [
       "tensor([[-0.4278, -0.4877, -0.7374, -0.6069,  0.5444],\n",
       "        [ 0.6626, -0.6944,  0.6454,  1.2843, -0.1652]],\n",
       "       grad_fn=<AddmmBackward0>)"
      ]
     },
     "execution_count": 15,
     "metadata": {},
     "output_type": "execute_result"
    }
   ],
   "source": [
    "## 가중치 합\n",
    "output = layer(x_train)\t\t# 입력 (2, 3)\n",
    "output"
   ]
  },
  {
   "cell_type": "code",
   "execution_count": 16,
   "metadata": {},
   "outputs": [
    {
     "name": "stdout",
     "output_type": "stream",
     "text": [
      "weight => Parameter containing:\n",
      "tensor([[-0.4101,  0.1396,  0.5071],\n",
      "        [-0.5017, -0.1796, -0.4295],\n",
      "        [-0.5349, -0.0306,  0.5226],\n",
      "        [-0.5382, -0.5481,  0.5194],\n",
      "        [ 0.2623, -0.2587, -0.4243]], requires_grad=True)\n",
      "bias   => Parameter containing:\n",
      "tensor([ 0.0763,  0.3343, -0.0476,  0.1043,  0.2457], requires_grad=True)\n"
     ]
    }
   ],
   "source": [
    "## W, b 텐서 확인\n",
    "print(f'weight => {layer.weight}')\n",
    "print(f'bias   => {layer.bias}')"
   ]
  },
  {
   "cell_type": "code",
   "execution_count": null,
   "metadata": {},
   "outputs": [],
   "source": []
  }
 ],
 "metadata": {
  "kernelspec": {
   "display_name": "DL_TORCH",
   "language": "python",
   "name": "python3"
  },
  "language_info": {
   "codemirror_mode": {
    "name": "ipython",
    "version": 3
   },
   "file_extension": ".py",
   "mimetype": "text/x-python",
   "name": "python",
   "nbconvert_exporter": "python",
   "pygments_lexer": "ipython3",
   "version": "3.9.21"
  }
 },
 "nbformat": 4,
 "nbformat_minor": 2
}
