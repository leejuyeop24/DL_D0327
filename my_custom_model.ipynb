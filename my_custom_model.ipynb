{
 "cells": [
  {
   "cell_type": "markdown",
   "metadata": {},
   "source": [
    "[1] 모듈 로딩 <hr>"
   ]
  },
  {
   "cell_type": "code",
   "execution_count": 1,
   "metadata": {},
   "outputs": [],
   "source": [
    "import torch\n",
    "import torch.nn as nn\n",
    "import torch.nn.functional as F\n",
    "\n",
    "import pandas as pd\n",
    "import numpy as np"
   ]
  },
  {
   "cell_type": "markdown",
   "metadata": {},
   "source": [
    "[2] 커스텀 모델 클래스 설계"
   ]
  },
  {
   "cell_type": "code",
   "execution_count": 6,
   "metadata": {},
   "outputs": [],
   "source": [
    "## [2-1] 고정된 층과 퍼셉트론 구성 모델\n",
    "## - 데 이  터 셋 : 피쳐 4 , 타겟 1 , 타겟 연속형\n",
    "## - 학습    방법 : 지도학습 - 회귀\n",
    "## - 구현알고리즘 : 인공신경망계열 DNN \n",
    "## -------------------------------------------------\n",
    "##             입력       출력/퍼셉트론수    활성화함수\n",
    "## - 입력층      4        15                ReLU\n",
    "## - 은닉층      15       13                ReLU\n",
    "## - 은닉층      13        4                ReLU\n",
    "## - 은닉층       4        3                ReLU\n",
    "## - 출력층       3        2                 -\n",
    "## -------------------------------------------------\n",
    "class CustomModel(nn.Module):\n",
    "\t# 인스턴스 초기화 및 생성 메서드\n",
    "\tdef __init__(self):\n",
    "\t\tsuper().__init__()\n",
    "\t\t# ANN 총 인스턴스 생성\n",
    "\t\tself.in_layer=nn.Linear(4, 15)\n",
    "\t\tself.hd_layer1=nn.Linear(15, 13)\n",
    "\t\tself.hd_layer2=nn.Linear(13, 4)\n",
    "\t\tself.hd_layer3=nn.Linear(4, 3)\n",
    "\t\tself.out_layer=nn.Linear(3, 2)\n",
    "\n",
    "\t# 순전파 학습 메서드\n",
    "\tdef forward(self, data):\n",
    "\t\t# - 입력층\n",
    "\t\tout=self.in_layer(data)\t\t# data * weight + b\n",
    "\t\tout=F.relu(out)\t\t\t\t# AF(data * weight + b) 결과물\n",
    "\n",
    "\t\t# - 은닉층1\n",
    "\t\tout=self.hd_layer1(out)\t\t# out * weight + b\n",
    "\t\tout=F.relu(out)\t\t\t\t# AF(out * weight + b) 결과물\n",
    "\n",
    "\t\t# - 은닉층2\n",
    "\t\tout=self.hd_layer2(out)\t\t# out * weight + b\n",
    "\t\tout=F.relu(out)\t\t\t\t# AF(out * weight + b) 결과물\n",
    "\n",
    "\t\t# - 은닉층3\n",
    "\t\tout=self.hd_layer3(out)\t\t# out * weight + b\n",
    "\t\tout=F.relu(out)\t\t\t\t# AF(out * weight + b) 결과물\n",
    "\n",
    "\t\t# - 출력층 : 회귀로 결과 그래도 반환\n",
    "\t\tout=self.out_layer(out)\t\t# out * weight + b\n",
    "\n",
    "\t\treturn out"
   ]
  },
  {
   "cell_type": "code",
   "execution_count": 7,
   "metadata": {},
   "outputs": [
    {
     "name": "stdout",
     "output_type": "stream",
     "text": [
      "CustomModel(\n",
      "  (in_layer): Linear(in_features=4, out_features=15, bias=True)\n",
      "  (hd_layer1): Linear(in_features=15, out_features=13, bias=True)\n",
      "  (hd_layer2): Linear(in_features=13, out_features=4, bias=True)\n",
      "  (hd_layer3): Linear(in_features=4, out_features=3, bias=True)\n",
      "  (out_layer): Linear(in_features=3, out_features=2, bias=True)\n",
      ")\n"
     ]
    }
   ],
   "source": [
    "## - 모델 사용 --------------------------------------\n",
    "## 모델 인스턴스 생성\n",
    "model=CustomModel()\n",
    "\n",
    "## 모델 구조 확인\n",
    "print(model)"
   ]
  },
  {
   "cell_type": "code",
   "execution_count": 8,
   "metadata": {},
   "outputs": [
    {
     "name": "stdout",
     "output_type": "stream",
     "text": [
      "tensor([[ 9., 24.,  5.,  4.],\n",
      "        [ 2.,  8.,  4.,  1.]])\n"
     ]
    }
   ],
   "source": [
    "## 모델 동작 테스트\n",
    "data = torch.FloatTensor([[9, 24, 5, 4],[2, 8, 4, 1]])\n",
    "print(data)\n",
    "\n",
    "## 모델에 데이터 전달\n",
    "pre=model(data)"
   ]
  },
  {
   "cell_type": "code",
   "execution_count": 9,
   "metadata": {},
   "outputs": [
    {
     "name": "stdout",
     "output_type": "stream",
     "text": [
      "in_layer.weight Parameter containing:\n",
      "tensor([[ 0.2388, -0.4544,  0.4623,  0.4678],\n",
      "        [ 0.3106,  0.4892,  0.2570, -0.4670],\n",
      "        [-0.2030, -0.0951,  0.4043, -0.2673],\n",
      "        [-0.3893, -0.1624, -0.1025, -0.1026],\n",
      "        [-0.3726, -0.0698,  0.2516, -0.2369],\n",
      "        [ 0.2941, -0.3482,  0.3271,  0.4538],\n",
      "        [-0.4784,  0.4697,  0.1800, -0.3155],\n",
      "        [-0.0592, -0.2636, -0.0429, -0.3977],\n",
      "        [ 0.1664,  0.4033, -0.2777, -0.0898],\n",
      "        [-0.0477,  0.1233, -0.0371, -0.4681],\n",
      "        [-0.4633, -0.1982, -0.4319, -0.0503],\n",
      "        [-0.4172, -0.2397, -0.1840,  0.4627],\n",
      "        [-0.2143, -0.0306, -0.2689,  0.1062],\n",
      "        [ 0.0593, -0.2710,  0.1600,  0.1567],\n",
      "        [ 0.2171, -0.0375, -0.2049, -0.3017]], requires_grad=True)\n",
      "in_layer.bias Parameter containing:\n",
      "tensor([ 0.4956,  0.4222,  0.2384,  0.4814, -0.4951, -0.0731, -0.3751,  0.1828,\n",
      "        -0.2575,  0.2407,  0.3975,  0.1790, -0.0711, -0.2883,  0.0807],\n",
      "       requires_grad=True)\n",
      "hd_layer1.weight Parameter containing:\n",
      "tensor([[ 0.0657, -0.0578, -0.2211, -0.1513,  0.2250,  0.0772, -0.1251, -0.2580,\n",
      "          0.1101,  0.2369,  0.2419, -0.0458, -0.0837, -0.1316, -0.2101],\n",
      "        [-0.0153,  0.0366,  0.0216, -0.1828, -0.2308,  0.1475,  0.0727, -0.0113,\n",
      "         -0.1755,  0.1503,  0.1427, -0.2337, -0.0667,  0.2456,  0.1234],\n",
      "        [ 0.2442,  0.0310, -0.1042, -0.0571, -0.1183,  0.1922,  0.0654, -0.2341,\n",
      "         -0.2569, -0.0334, -0.2114, -0.0918,  0.2120,  0.2197,  0.2124],\n",
      "        [-0.1649,  0.1468,  0.0694,  0.1487,  0.2313, -0.0880,  0.1115, -0.1436,\n",
      "          0.0177, -0.0005,  0.0407,  0.1251,  0.0089, -0.2407,  0.1457],\n",
      "        [ 0.0959, -0.0439, -0.0368,  0.0561, -0.0383,  0.0268,  0.0014, -0.2580,\n",
      "          0.0915,  0.0964,  0.1396,  0.1100, -0.0194, -0.0942, -0.0929],\n",
      "        [ 0.2463,  0.0066,  0.2492, -0.0278, -0.2165,  0.1871,  0.2483, -0.1235,\n",
      "          0.0167,  0.0018, -0.1616, -0.1210, -0.2521, -0.0515,  0.0777],\n",
      "        [-0.2434,  0.2015,  0.1456,  0.2575,  0.0788,  0.2540, -0.2382, -0.0157,\n",
      "         -0.0963,  0.1116,  0.0581, -0.1173, -0.0743, -0.0658,  0.0101],\n",
      "        [ 0.1113,  0.0688,  0.0237, -0.1172,  0.1033,  0.0412, -0.1736, -0.0260,\n",
      "          0.0900,  0.0659,  0.1617,  0.1019, -0.2135, -0.2340, -0.0269],\n",
      "        [ 0.1366,  0.2151, -0.0669, -0.0736, -0.1359,  0.1134,  0.0550, -0.2582,\n",
      "          0.1979, -0.0810, -0.1028,  0.0272,  0.1650, -0.1346, -0.2107],\n",
      "        [-0.1609,  0.0073, -0.0605,  0.2175, -0.1622,  0.1099, -0.2264, -0.1956,\n",
      "         -0.0970, -0.0234, -0.0240, -0.1438,  0.1629,  0.0098,  0.2010],\n",
      "        [ 0.0263,  0.0860, -0.0877,  0.1620,  0.0796,  0.0329, -0.1167,  0.1264,\n",
      "         -0.1165,  0.2287,  0.1526, -0.2134, -0.0401,  0.0176,  0.2167],\n",
      "        [-0.0383, -0.0947, -0.2078,  0.0028, -0.0592,  0.1559, -0.0057,  0.0866,\n",
      "         -0.2312, -0.2185,  0.0990,  0.2201, -0.1991,  0.0815, -0.1247],\n",
      "        [ 0.2490,  0.0932, -0.0898, -0.2390,  0.2229, -0.0314,  0.2036,  0.0067,\n",
      "          0.0652, -0.2475, -0.2136,  0.1811, -0.0675, -0.1470,  0.1976]],\n",
      "       requires_grad=True)\n",
      "hd_layer1.bias Parameter containing:\n",
      "tensor([ 6.0417e-02, -6.3702e-02,  3.4433e-02,  1.2561e-01,  1.5012e-01,\n",
      "        -1.4278e-01, -1.2810e-02, -2.2423e-01,  5.3845e-02,  8.4797e-02,\n",
      "        -7.2249e-02, -2.3813e-01, -1.9339e-04], requires_grad=True)\n",
      "hd_layer2.weight Parameter containing:\n",
      "tensor([[-0.0735, -0.0727, -0.0671, -0.1958,  0.1108, -0.2660,  0.1587, -0.2407,\n",
      "          0.2344,  0.1326, -0.2209,  0.1799,  0.1296],\n",
      "        [-0.1923,  0.1662,  0.1134, -0.0673,  0.1052,  0.2179,  0.2116,  0.1512,\n",
      "          0.1216, -0.1738, -0.1080, -0.1170, -0.0414],\n",
      "        [-0.1832, -0.0772, -0.0147,  0.0101,  0.2190, -0.1545, -0.0675,  0.1864,\n",
      "         -0.0965,  0.2508, -0.2171,  0.0674,  0.1211],\n",
      "        [-0.0052,  0.2052,  0.1618, -0.0018, -0.2315,  0.2742, -0.2415,  0.1532,\n",
      "          0.2548, -0.2192,  0.0634,  0.0068,  0.2733]], requires_grad=True)\n",
      "hd_layer2.bias Parameter containing:\n",
      "tensor([-0.1674, -0.2021, -0.1324, -0.1502], requires_grad=True)\n",
      "hd_layer3.weight Parameter containing:\n",
      "tensor([[ 0.0634, -0.2057, -0.0118, -0.2669],\n",
      "        [-0.1329, -0.1676, -0.3222, -0.1406],\n",
      "        [-0.2638, -0.2082,  0.0685, -0.0793]], requires_grad=True)\n",
      "hd_layer3.bias Parameter containing:\n",
      "tensor([ 0.3126, -0.0356,  0.4058], requires_grad=True)\n",
      "out_layer.weight Parameter containing:\n",
      "tensor([[ 0.4888,  0.0929, -0.3562],\n",
      "        [ 0.1784,  0.2164,  0.1869]], requires_grad=True)\n",
      "out_layer.bias Parameter containing:\n",
      "tensor([0.1977, 0.5389], requires_grad=True)\n"
     ]
    }
   ],
   "source": [
    "## 모델에 파라미터들\n",
    "for name, param in model.named_parameters():\n",
    "\tprint(name, param)"
   ]
  },
  {
   "cell_type": "code",
   "execution_count": null,
   "metadata": {},
   "outputs": [],
   "source": []
  }
 ],
 "metadata": {
  "kernelspec": {
   "display_name": "DL_TORCH",
   "language": "python",
   "name": "python3"
  },
  "language_info": {
   "codemirror_mode": {
    "name": "ipython",
    "version": 3
   },
   "file_extension": ".py",
   "mimetype": "text/x-python",
   "name": "python",
   "nbconvert_exporter": "python",
   "pygments_lexer": "ipython3",
   "version": "3.9.21"
  }
 },
 "nbformat": 4,
 "nbformat_minor": 2
}
