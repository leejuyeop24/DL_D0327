{
 "cells": [
  {
   "cell_type": "markdown",
   "metadata": {},
   "source": [
    "#### [ Tensor의 Storage ]\n",
    "\n",
    "- 메모리에 원소/요소가 저장된 정보 및 데이터를 가지는 속성"
   ]
  },
  {
   "cell_type": "code",
   "execution_count": null,
   "metadata": {},
   "outputs": [],
   "source": [
    "import torch\n",
    "import numpy as np"
   ]
  },
  {
   "cell_type": "code",
   "execution_count": 1,
   "metadata": {},
   "outputs": [
    {
     "ename": "NameError",
     "evalue": "name 'torch' is not defined",
     "output_type": "error",
     "traceback": [
      "\u001b[1;31m---------------------------------------------------------------------------\u001b[0m",
      "\u001b[1;31mNameError\u001b[0m                                 Traceback (most recent call last)",
      "Cell \u001b[1;32mIn[1], line 2\u001b[0m\n\u001b[0;32m      1\u001b[0m \u001b[38;5;66;03m## 텐서 생성\u001b[39;00m\n\u001b[1;32m----> 2\u001b[0m t1 \u001b[38;5;241m=\u001b[39m \u001b[43mtorch\u001b[49m\u001b[38;5;241m.\u001b[39mtensor([[\u001b[38;5;241m11\u001b[39m, \u001b[38;5;241m22\u001b[39m, \u001b[38;5;241m33\u001b[39m, \u001b[38;5;241m44\u001b[39m, \u001b[38;5;241m55\u001b[39m], [\u001b[38;5;241m66\u001b[39m, \u001b[38;5;241m77\u001b[39m, \u001b[38;5;241m88\u001b[39m, \u001b[38;5;241m99\u001b[39m, \u001b[38;5;241m00\u001b[39m]],\n\u001b[0;32m      3\u001b[0m \t\t\t\t  dtype\u001b[38;5;241m=\u001b[39mtorch\u001b[38;5;241m.\u001b[39mint8)\n",
      "\u001b[1;31mNameError\u001b[0m: name 'torch' is not defined"
     ]
    }
   ],
   "source": [
    "## 텐서 생성\n",
    "t1 = torch.tensor([[11, 22, 33, 44, 55], [66, 77, 88, 99, 00]],\n",
    "\t\t\t\t  dtype=torch.int8)"
   ]
  },
  {
   "cell_type": "code",
   "execution_count": null,
   "metadata": {},
   "outputs": [],
   "source": [
    "## Sotrage 정보 출력 함수\n",
    "def printStorage(tobj_name, tobj):\n",
    "\tprint(f\"\\n==== [{tobj_name}] 기본 정보 ====\")\n",
    "\tprint(f\"Shape\t:{tobj.shape}\")\n",
    "\tprint(f\"Dim\t\t:{tobj.ndim}D\")\n",
    "\tprint(f\"Dtype\t:{tobj.dtype}\")\n",
    "\tprint(f\"itemsize:{tobj.itemsize}byte\")\n",
    "\n",
    "\tprint(\"==== Storage ====\")\n",
    "\tprint(\"Offset: \", tobj.storage_offset())\n",
    "\tprint(\"Strides: \", tobj.stride())\n",
    "\tprint(\"====================\")\n",
    "\tprint(tobj.untyped_storage())"
   ]
  },
  {
   "cell_type": "code",
   "execution_count": null,
   "metadata": {},
   "outputs": [
    {
     "name": "stdout",
     "output_type": "stream",
     "text": [
      "\n",
      "==== [t1] 기본 정보 ====\n",
      "Shape\t:torch.Size([2, 5])\n",
      "Dim\t\t:2D\n",
      "Dtype\t:torch.int8\n",
      "itemsize:1byte\n",
      "==== Storage ====\n",
      "Offset:  0\n",
      "Strides:  (5, 1)\n",
      "====================\n",
      " 11\n",
      " 22\n",
      " 33\n",
      " 44\n",
      " 55\n",
      " 55\n",
      " 66\n",
      " 77\n",
      " 88\n",
      " 99\n",
      "[torch.storage.UntypedStorage(device=cpu) of size 10]\n"
     ]
    }
   ],
   "source": [
    "printStorage('t1',t1)"
   ]
  },
  {
   "cell_type": "markdown",
   "metadata": {},
   "source": [
    "- 텐서 형태 변경"
   ]
  },
  {
   "cell_type": "code",
   "execution_count": null,
   "metadata": {},
   "outputs": [
    {
     "name": "stdout",
     "output_type": "stream",
     "text": [
      "\n",
      "==== [t2] 기본 정보 ====\n",
      "Shape\t:torch.Size([5, 2])\n",
      "Dim\t\t:2D\n",
      "Dtype\t:torch.int8\n",
      "itemsize:1byte\n",
      "==== Storage ====\n",
      "Offset:  0\n",
      "Strides:  (2, 1)\n",
      "====================\n",
      " 11\n",
      " 22\n",
      " 33\n",
      " 44\n",
      " 55\n",
      " 66\n",
      " 77\n",
      " 88\n",
      " 99\n",
      " 0\n",
      "[torch.storage.UntypedStorage(device=cpu) of size 10]\n"
     ]
    }
   ],
   "source": [
    "t2 = t1.reshape(5, -1)\n",
    "printStorage('t2',t2)"
   ]
  },
  {
   "cell_type": "markdown",
   "metadata": {},
   "source": [
    "- 축(axis) 변경"
   ]
  },
  {
   "cell_type": "code",
   "execution_count": null,
   "metadata": {},
   "outputs": [
    {
     "name": "stdout",
     "output_type": "stream",
     "text": [
      "\n",
      "==== [t2] 기본 정보 ====\n",
      "Shape\t:torch.Size([5, 2])\n",
      "Dim\t\t:2D\n",
      "Dtype\t:torch.int8\n",
      "itemsize:1byte\n",
      "==== Storage ====\n",
      "Offset:  0\n",
      "Strides:  (1, 5)\n",
      "====================\n",
      " 11\n",
      " 22\n",
      " 33\n",
      " 44\n",
      " 55\n",
      " 66\n",
      " 77\n",
      " 88\n",
      " 99\n",
      " 0\n",
      "[torch.storage.UntypedStorage(device=cpu) of size 10]\n"
     ]
    }
   ],
   "source": [
    "# t1 (2, 5) ==> t1 (5, 2)\n",
    "t2 = t1.transpose(0,1)\n",
    "printStorage('t2',t2)"
   ]
  },
  {
   "cell_type": "code",
   "execution_count": null,
   "metadata": {},
   "outputs": [
    {
     "ename": "RuntimeError",
     "evalue": "view size is not compatible with input tensor's size and stride (at least one dimension spans across two contiguous subspaces). Use .reshape(...) instead.",
     "output_type": "error",
     "traceback": [
      "\u001b[1;31m---------------------------------------------------------------------------\u001b[0m",
      "\u001b[1;31mRuntimeError\u001b[0m                              Traceback (most recent call last)",
      "Cell \u001b[1;32mIn[34], line 2\u001b[0m\n\u001b[0;32m      1\u001b[0m \u001b[38;5;66;03m## tensor 형태 변경\u001b[39;00m\n\u001b[1;32m----> 2\u001b[0m \u001b[43mt2\u001b[49m\u001b[38;5;241;43m.\u001b[39;49m\u001b[43mview\u001b[49m\u001b[43m(\u001b[49m\u001b[38;5;241;43m-\u001b[39;49m\u001b[38;5;241;43m1\u001b[39;49m\u001b[43m,\u001b[49m\u001b[43m \u001b[49m\u001b[38;5;241;43m10\u001b[39;49m\u001b[43m)\u001b[49m\n",
      "\u001b[1;31mRuntimeError\u001b[0m: view size is not compatible with input tensor's size and stride (at least one dimension spans across two contiguous subspaces). Use .reshape(...) instead."
     ]
    }
   ],
   "source": [
    "## tensor 형태 변경\n",
    "t2.view(-1, 10)"
   ]
  },
  {
   "cell_type": "code",
   "execution_count": null,
   "metadata": {},
   "outputs": [
    {
     "data": {
      "text/plain": [
       "tensor([[11, 66, 22, 77, 33, 88, 44, 99, 55,  0]], dtype=torch.int8)"
      ]
     },
     "execution_count": 35,
     "metadata": {},
     "output_type": "execute_result"
    }
   ],
   "source": [
    "## tensor 형태 변경\n",
    "t2.reshape(-1, 10)"
   ]
  },
  {
   "cell_type": "code",
   "execution_count": null,
   "metadata": {},
   "outputs": [
    {
     "name": "stdout",
     "output_type": "stream",
     "text": [
      "False\n",
      "True\n"
     ]
    },
    {
     "data": {
      "text/plain": [
       "tensor([[11, 66, 22, 77, 33, 88, 44, 99, 55,  0]], dtype=torch.int8)"
      ]
     },
     "execution_count": 36,
     "metadata": {},
     "output_type": "execute_result"
    }
   ],
   "source": [
    "## tensor 형태 변경\n",
    "## t2.view(-1, 10) ## => 연속성이 꺠져서 생긴 오류\n",
    "print(t2.is_contiguous())\n",
    "\n",
    "t2=t2.contiguous()\t# 새롭게 생성\n",
    "print(t2.is_contiguous())\n",
    "t2.view(-1, 10)"
   ]
  }
 ],
 "metadata": {
  "kernelspec": {
   "display_name": "DL_TORCH",
   "language": "python",
   "name": "python3"
  },
  "language_info": {
   "codemirror_mode": {
    "name": "ipython",
    "version": 3
   },
   "file_extension": ".py",
   "mimetype": "text/x-python",
   "name": "python",
   "nbconvert_exporter": "python",
   "pygments_lexer": "ipython3",
   "version": "3.9.21"
  }
 },
 "nbformat": 4,
 "nbformat_minor": 2
}
